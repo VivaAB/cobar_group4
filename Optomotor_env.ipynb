{
 "cells": [
  {
   "cell_type": "code",
   "execution_count": 1,
   "metadata": {},
   "outputs": [],
   "source": [
    "%load_ext autoreload\n",
    "%autoreload 2\n",
    "import matplotlib.pyplot as plt\n",
    "import numpy as np\n",
    "from tqdm import trange\n",
    "from gymnasium.utils.env_checker import check_env\n",
    "\n",
    "from flygym import Fly, Camera, SingleFlySimulation\n",
    "\n",
    "from flygym import Parameters\n",
    "from flygym.arena import FlatTerrain\n",
    "from flygym.examples.turning_controller import HybridTurningNMF\n",
    "from flygym.vision.visualize import save_video_with_vision_insets\n",
    "from flygym.examples.head_stabilization import HeadStabilizationInferenceWrapper\n",
    "from flygym.examples.head_stabilization import get_head_stabilization_model_paths\n",
    "stabilization_model_path, scaler_param_path = get_head_stabilization_model_paths()\n"
   ]
  },
  {
   "cell_type": "code",
   "execution_count": 2,
   "metadata": {},
   "outputs": [],
   "source": [
    "class Gratings(FlatTerrain):\n",
    "    def __init__(\n",
    "        self,\n",
    "        n=18,\n",
    "        height=100,\n",
    "        distance=12,\n",
    "        ang_speed=1,\n",
    "        palette=((0, 0, 0, 1), (1, 1, 1, 1)),\n",
    "        *args,\n",
    "        **kwargs,\n",
    "    ):\n",
    "        \"\"\"Creates a circular arena with n cylinders to simulate a grating pattern.\n",
    "\n",
    "        Parameters\n",
    "        ----------\n",
    "        n : int\n",
    "            Number of cylinders to create.\n",
    "        height : float\n",
    "            Height of the cylinders.\n",
    "        distance : float\n",
    "            Distance from the center of the arena to the center of the cylinders.\n",
    "        ang_speed : float\n",
    "            Angular speed of the cylinders.\n",
    "        palette : list of tuples\n",
    "            List of RGBA tuples to use as colors for the cylinders.\n",
    "        \"\"\"\n",
    "        super().__init__(*args, **kwargs)\n",
    "\n",
    "        self.height = height\n",
    "        self.ang_speed = ang_speed\n",
    "\n",
    "        self.cylinders = []\n",
    "        self.phase = 0\n",
    "        self.curr_time = 0\n",
    "\n",
    "        cylinder_material = self.root_element.asset.add(\n",
    "            \"material\", name=\"cylinder\", reflectance=0.1\n",
    "        )\n",
    "\n",
    "        #########################################################\n",
    "        # TODO: calculate the radius and the initial positions\n",
    "        # of the cylinders\n",
    "        init_pos = np.exp(2j * np.pi * np.arange(n) / n) * distance\n",
    "        radius = np.abs(init_pos[1] - init_pos[0]) / 2\n",
    "        #########################################################\n",
    "\n",
    "        self.init_pos = init_pos\n",
    "\n",
    "        for i, pos in enumerate(self.init_pos):\n",
    "            cylinder = self.root_element.worldbody.add(\n",
    "                \"body\",\n",
    "                name=f\"cylinder_{i}\",\n",
    "                mocap=True,\n",
    "                ##################################################\n",
    "                # TODO: set the position of the cylinder\n",
    "                pos=(pos.real, pos.imag, self.height / 2),\n",
    "                ##################################################\n",
    "            )\n",
    "\n",
    "            cylinder.add(\n",
    "                \"geom\",\n",
    "                type=\"cylinder\",\n",
    "                ##################################################\n",
    "                # TODO: set the size and color of the cylinder\n",
    "                size=(radius, self.height / 2),\n",
    "                rgba=palette[i % len(palette)],\n",
    "                ##################################################\n",
    "                material=cylinder_material,\n",
    "            )\n",
    "\n",
    "            self.cylinders.append(cylinder)\n",
    "\n",
    "        self.birdeye_cam = self.root_element.worldbody.add(\n",
    "            \"camera\",\n",
    "            name=\"birdeye_cam\",\n",
    "            mode=\"fixed\",\n",
    "            pos=(0, 0, 25),\n",
    "            euler=(0, 0, 0),\n",
    "            fovy=45,\n",
    "        )\n",
    "\n",
    "    def reset(self, physics):\n",
    "        \"\"\"Resets the position of the cylinders and the phase of the grating pattern.\"\"\"\n",
    "        self.phase = 0\n",
    "        self.curr_time = 0\n",
    "\n",
    "        for i, p in enumerate(self.init_pos):\n",
    "            physics.bind(self.cylinders[i]).mocap_pos = (\n",
    "                p.real,\n",
    "                p.imag,\n",
    "                self.height / 2,\n",
    "            )\n",
    "\n",
    "    def step(self, dt, physics):\n",
    "        \"\"\"Steps the phase of the grating pattern and updates the position of the cylinders.\"\"\"\n",
    "\n",
    "        if self.curr_time % 1 < 1 / 2:\n",
    "            self.phase -= dt * self.ang_speed\n",
    "        else:\n",
    "            self.phase += dt * self.ang_speed\n",
    "\n",
    "        self.curr_time += dt\n",
    "\n",
    "        ##################################################\n",
    "        # TODO: update the position of the cylinders\n",
    "        pos = np.exp(self.phase * 1j) * self.init_pos\n",
    "\n",
    "        for i, p in enumerate(pos):\n",
    "            physics.bind(self.cylinders[i]).mocap_pos = (\n",
    "                p.real,\n",
    "                p.imag,\n",
    "                self.height / 2,\n",
    "            )\n",
    "        ##################################################"
   ]
  },
  {
   "cell_type": "code",
   "execution_count": 4,
   "metadata": {},
   "outputs": [
    {
     "ename": "SyntaxError",
     "evalue": "invalid syntax (3873884649.py, line 32)",
     "output_type": "error",
     "traceback": [
      "\u001b[0;36m  Cell \u001b[0;32mIn[4], line 32\u001b[0;36m\u001b[0m\n\u001b[0;31m    head_stabilization_model=Optional[HeadStabilizationInferenceWrapper] = None,\u001b[0m\n\u001b[0m                                                                         ^\u001b[0m\n\u001b[0;31mSyntaxError\u001b[0m\u001b[0;31m:\u001b[0m invalid syntax\n"
     ]
    }
   ],
   "source": [
    "optomotor_arena = Gratings() #define arena\n",
    "aliasign_arena = Gratings(ang_speed = 3750)\n",
    "adt_arena = Gratings() #adapt to literature description of experiemnts \n",
    "\n",
    "\n",
    "\n",
    "arena = aliasign_arena\n",
    "#build fly body\n",
    "contact_sensor_placements = [\n",
    "    f\"{leg}{segment}\"\n",
    "    for leg in [\"LF\", \"LM\", \"LH\", \"RF\", \"RM\", \"RH\"]\n",
    "    for segment in [\"Tibia\", \"Tarsus1\", \"Tarsus2\", \"Tarsus3\", \"Tarsus4\", \"Tarsus5\"]\n",
    "]\n",
    "\n",
    "#define simulation parameters\n",
    "sim_params = Parameters(\n",
    "    render_playspeed=0.2, #tochange to see speeed\n",
    "    render_camera=\"birdeye_cam\",\n",
    "    enable_vision=True,\n",
    "    render_raw_vision=True,\n",
    "    enable_olfaction=True,\n",
    "    enable_adhesion=True,\n",
    "    render_window_size=(400, 400),\n",
    ")\n",
    "\n",
    "fly = Fly(\n",
    "        contact_sensor_placements=contact_sensor_placements,\n",
    "        enable_adhesion=True,\n",
    "        enable_vision=True,\n",
    "        vision_refresh_rate=500,\n",
    "        neck_kp=500,\n",
    "        head_stabilization_model=Optional[HeadStabilizationInferenceWrapper] = None,\n",
    "    )\n",
    "    \n",
    "nmf = HybridTurningNMF(\n",
    "    sim_params=sim_params,\n",
    "    arena=arena,\n",
    "    spawn_pos=(0, 0, 0.2), #what is this????\n",
    "    spawn_orientation=(0, 0, np.pi / 2 + np.deg2rad(70)),\n",
    "    contact_sensor_placements=contact_sensor_placements,\n",
    ")\n",
    "\n",
    "nmf.render()\n",
    "\n",
    "for i in range(500):\n",
    "    obs, reward, terminated, truncated, info = nmf.step(np.zeros(2))\n",
    "    nmf.render()\n",
    "\n",
    "vision_left = nmf.retina.hex_pxls_to_human_readable(obs[\"vision\"][0, :, :])\n",
    "vision_right = nmf.retina.hex_pxls_to_human_readable(obs[\"vision\"][1, :, :])\n",
    "\n",
    "fig, axs = plt.subplots(1, 3, figsize=(9, 3), tight_layout=True)\n",
    "axs[0].imshow(nmf._frames[-1])\n",
    "axs[1].imshow(vision_left, cmap=\"gray\", vmin=0, vmax=255)\n",
    "axs[2].imshow(vision_right, cmap=\"gray\", vmin=0, vmax=255)\n",
    "\n",
    "for ax, title in zip(axs, [\"Bird-eye view\", \"Left eye\", \"Right eye\"]):\n",
    "    ax.set_title(title)\n",
    "    ax.axis(\"off\")"
   ]
  },
  {
   "cell_type": "code",
   "execution_count": 24,
   "metadata": {},
   "outputs": [
    {
     "name": "stdout",
     "output_type": "stream",
     "text": [
      "Shape: (2, 16, 31)\n"
     ]
    },
    {
     "data": {
      "image/png": "[encoded data removed]",
      "text/plain": [
       "<Figure size 600x300 with 2 Axes>"
      ]
     },
     "metadata": {},
     "output_type": "display_data"
    }
   ],
   "source": [
    "from utils import crop_hex_to_rect\n",
    "\n",
    "imgs = crop_hex_to_rect(obs[\"vision\"])\n",
    "\n",
    "fig, axs = plt.subplots(1, 2, figsize=(6, 3), tight_layout=True)\n",
    "axs[0].imshow(imgs[0], cmap=\"gray\", vmin=0, vmax=1)\n",
    "axs[0].axis(\"off\")\n",
    "axs[0].set_title(\"Left eye\")\n",
    "axs[1].imshow(imgs[1], cmap=\"gray\", vmin=0, vmax=1)\n",
    "axs[1].axis(\"off\")\n",
    "axs[1].set_title(\"Right eye\")\n",
    "\n",
    "print(\"Shape:\", imgs.shape)"
   ]
  },
  {
   "cell_type": "code",
   "execution_count": 25,
   "metadata": {},
   "outputs": [
    {
     "data": {
      "text/plain": [
       "Text(0.5, 1.0, 'Right eye')"
      ]
     },
     "execution_count": 25,
     "metadata": {},
     "output_type": "execute_result"
    },
    {
     "data": {
      "image/png": "[encoded data removed]",
      "text/plain": [
       "<Figure size 600x300 with 2 Axes>"
      ]
     },
     "metadata": {},
     "output_type": "display_data"
    }
   ],
   "source": [
    "def get_column_responses(visual_input):\n",
    "    im = crop_hex_to_rect(visual_input)\n",
    "    return crop_hex_to_rect(visual_input)[:, : im.shape[1] // 2, :].mean(1)\n",
    "\n",
    "\n",
    "column_responses = get_column_responses(obs[\"vision\"])\n",
    "fig, axs = plt.subplots(1, 2, figsize=(6, 3), tight_layout=True)\n",
    "axs[0].imshow(column_responses[0].reshape((1, -1)), cmap=\"gray\", vmin=0, vmax=1)\n",
    "axs[0].axis(\"off\")\n",
    "axs[0].set_title(\"Left eye\")\n",
    "axs[1].imshow(column_responses[1].reshape((1, -1)), cmap=\"gray\", vmin=0, vmax=1)\n",
    "axs[1].axis(\"off\")\n",
    "axs[1].set_title(\"Right eye\")"
   ]
  },
  {
   "cell_type": "code",
   "execution_count": 26,
   "metadata": {},
   "outputs": [],
   "source": [
    "from numpy.lib.stride_tricks import sliding_window_view\n",
    "\n",
    "\n",
    "def get_hrc_responses(delayed_intensity, current_intensity):\n",
    "    \"\"\"\n",
    "    Parameters\n",
    "    ----------\n",
    "    delayed_intensity : np.ndarray\n",
    "        Delayed intensities with shape (2, 31).\n",
    "    current_intensity : np.ndarray\n",
    "        Current intensities with shape (2, 31).\n",
    "\n",
    "    Returns\n",
    "    -------\n",
    "    np.ndarray\n",
    "        HRC responses with shape (2, 30).\n",
    "\n",
    "    \"\"\"\n",
    "\n",
    "    #######################################################\n",
    "    # TODO: calculate the HRC outputs\n",
    "    return np.cross(\n",
    "        sliding_window_view(delayed_intensity, 2, axis=-1),\n",
    "        sliding_window_view(current_intensity, 2, axis=-1),\n",
    "    )\n",
    "\n",
    "    # or:\n",
    "    # return np.linalg.det(\n",
    "    #     np.stack(\n",
    "    #         [\n",
    "    #             sliding_window_view(delayed_intensity, 2, axis=-1),\n",
    "    #             sliding_window_view(current_intensity, 2, axis=-1),\n",
    "    #         ],\n",
    "    #         axis=-2,\n",
    "    #     )\n",
    "    # )\n",
    "    #######################################################"
   ]
  },
  {
   "cell_type": "code",
   "execution_count": 27,
   "metadata": {},
   "outputs": [
    {
     "data": {
      "text/plain": [
       "<matplotlib.legend.Legend at 0x155c4a1d0>"
      ]
     },
     "execution_count": 27,
     "metadata": {},
     "output_type": "execute_result"
    },
    {
     "data": {
      "image/png": "[encoded data removed]",
      "text/plain": [
       "<Figure size 800x300 with 2 Axes>"
      ]
     },
     "metadata": {},
     "output_type": "display_data"
    }
   ],
   "source": [
    "delayed_intensity = np.tile(np.cos(2 * np.pi * np.arange(31) / 31), (2, 1))\n",
    "\n",
    "fig, axs = plt.subplots(1, 2, figsize=(8, 3), tight_layout=True)\n",
    "\n",
    "for ax, shift in zip(axs, (-2, 2)):\n",
    "    current_intensity = np.roll(delayed_intensity, shift, axis=1)\n",
    "    ax.plot(delayed_intensity.T, color=\"C0\", label=r\"$I(x_i,t-\\tau)$\")\n",
    "    ax.plot(current_intensity.T, color=\"C1\", label=r\"$I(x_i,t)$\")\n",
    "    ax.set_title(\n",
    "        f\"HRC response = {get_hrc_responses(delayed_intensity, current_intensity).mean():.4f}\"\n",
    "    )\n",
    "    ax.set_xlabel(\"$x_i$\")\n",
    "    ax.set_ylabel(\"Intensity\")\n",
    "\n",
    "handles, labels = ax.get_legend_handles_labels()\n",
    "ax.legend(handles[::2], labels[::2], loc=\"upper center\", frameon=False)"
   ]
  },
  {
   "cell_type": "code",
   "execution_count": 28,
   "metadata": {},
   "outputs": [
    {
     "name": "stderr",
     "output_type": "stream",
     "text": [
      "100%|██████████| 10000/10000 [03:47<00:00, 44.03it/s]\n",
      "WARNING:imageio_ffmpeg:IMAGEIO FFMPEG_WRITER WARNING: input image is not divisible by macro_block_size=16, resizing from (400, 555) to (400, 560) to ensure video compatibility with most codecs and players. To prevent resizing, make your input image divisible by the macro_block_size or set the macro_block_size to 1 (risking incompatibility).\n"
     ]
    }
   ],
   "source": [
    "arena.reset(nmf.physics)\n",
    "obs, info = nmf.reset(seed=10)\n",
    "\n",
    "n_delays = 4    # time delay = n_delays * 1 / vision_refresh_rate\n",
    "col_response_hist = [get_column_responses(obs[\"vision\"])] * n_delays\n",
    "visual_inputs_hist = []\n",
    "\n",
    "n_steps_per_vision_refresh = int(\n",
    "    1 / nmf.sim_params.vision_refresh_rate / nmf.sim_params.timestep\n",
    ")\n",
    "\n",
    "for i in trange(10000):\n",
    "    if i % n_steps_per_vision_refresh == 0:\n",
    "        delayed_intensity = col_response_hist.pop(0)\n",
    "        current_intensity = get_column_responses(obs[\"vision\"])\n",
    "        col_response_hist.append(current_intensity)\n",
    "\n",
    "        hrc_response = get_hrc_responses(delayed_intensity, current_intensity).mean()\n",
    "\n",
    "        ######################################################################\n",
    "        # TODO: Apply turning descending signals of [-1.2, 1.2] or [1.2, -1.2]\n",
    "        # depending on the motion direction to make the fly turn towards the\n",
    "        # grating pattern.\n",
    "        action = np.array([1.2, 1.2])\n",
    "        action[int(hrc_response > 0)] = -1.2\n",
    "        ######################################################################\n",
    "\n",
    "    obs = nmf.step(action)[0]\n",
    "    render_res = nmf.render()\n",
    "\n",
    "    if render_res is not None:\n",
    "        visual_inputs_hist.append(obs[\"vision\"].copy())\n",
    "\n",
    "save_video_with_vision_insets(nmf, \"outputs/optomotor_ang_speed_3750.mp4\", visual_inputs_hist)"
   ]
  },
  {
   "cell_type": "code",
   "execution_count": null,
   "metadata": {},
   "outputs": [],
   "source": []
  }
 ],
 "metadata": {
  "kernelspec": {
   "display_name": "Python 3 (ipykernel)",
   "language": "python",
   "name": "python3"
  },
  "language_info": {
   "codemirror_mode": {
    "name": "ipython",
    "version": 3
   },
   "file_extension": ".py",
   "mimetype": "text/x-python",
   "name": "python",
   "nbconvert_exporter": "python",
   "pygments_lexer": "ipython3",
   "version": "3.11.9"
  }
 },
 "nbformat": 4,
 "nbformat_minor": 2
}
